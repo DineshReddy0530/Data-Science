{
 "cells": [
  {
   "cell_type": "code",
   "execution_count": 21,
   "metadata": {},
   "outputs": [
    {
     "name": "stdout",
     "output_type": "stream",
     "text": [
      "[[1, 3, 4], [2, 5, 7], [5, 9, 6]]\n"
     ]
    }
   ],
   "source": [
    "matrix1=[[1,3,4],\n",
    "    [2,5,7],\n",
    "    [5,9,6]]\n",
    "matrix2=[[1,0,0],\n",
    "  [0,1,0],\n",
    "  [0,0,1],]\n",
    "\n",
    "result = [[0 for x in range(len(matrix1))] for y in range(len(matrix2))]  \n",
    "  \n",
    "for i in range(len(matrix1)): \n",
    "    for j in range(len(matrix2[0])): \n",
    "        for k in range(len(matrix2)): \n",
    "            res[i][j] += matrix1[i][k] * matrix2[k][j] \n",
    "print (result) "
   ]
  },
  {
   "cell_type": "code",
   "execution_count": 20,
   "metadata": {},
   "outputs": [
    {
     "name": "stdout",
     "output_type": "stream",
     "text": [
      "[[0, 0], [0, 0], [0, 0], [0, 0], [0, 0]]\n"
     ]
    }
   ],
   "source": []
  },
  {
   "cell_type": "code",
   "execution_count": 23,
   "metadata": {},
   "outputs": [
    {
     "name": "stdout",
     "output_type": "stream",
     "text": [
      "Enter the number of rows:1\n",
      "Enter the number of columns:5\n",
      "Enter the entries rowwise:\n",
      "12345\n",
      "5\n",
      "2\n",
      "3\n",
      "5\n"
     ]
    }
   ],
   "source": [
    "for j in range(2):\n",
    "    R = int(input(\"Enter the number of rows:\")) \n",
    "    C = int(input(\"Enter the number of columns:\")) \n",
    "   \n",
    "    matrix = [] \n",
    "    print(\"Enter the entries rowwise:\") \n",
    " \n",
    "    for i in range(R):       \n",
    "        a =[] \n",
    "        for j in range(C):      \n",
    "             a.append(int(input())) \n",
    "        matrix.append(a)"
   ]
  },
  {
   "cell_type": "code",
   "execution_count": null,
   "metadata": {},
   "outputs": [],
   "source": []
  }
 ],
 "metadata": {
  "kernelspec": {
   "display_name": "Python 3",
   "language": "python",
   "name": "python3"
  },
  "language_info": {
   "codemirror_mode": {
    "name": "ipython",
    "version": 3
   },
   "file_extension": ".py",
   "mimetype": "text/x-python",
   "name": "python",
   "nbconvert_exporter": "python",
   "pygments_lexer": "ipython3",
   "version": "3.7.3"
  }
 },
 "nbformat": 4,
 "nbformat_minor": 2
}
