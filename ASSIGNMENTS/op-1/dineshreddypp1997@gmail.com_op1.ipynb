{
 "cells": [
  {
   "cell_type": "markdown",
   "metadata": {},
   "source": [
    "## 1"
   ]
  },
  {
   "cell_type": "code",
   "execution_count": 5,
   "metadata": {},
   "outputs": [
    {
     "name": "stdout",
     "output_type": "stream",
     "text": [
      "Enter a number 5\n",
      "Multiples till 10\n",
      "Multiplication of 5 till 10 multiples is \n",
      "5 * 1 = 5\n",
      "5 * 2 = 10\n",
      "5 * 3 = 15\n",
      "5 * 4 = 20\n",
      "5 * 5 = 25\n",
      "5 * 6 = 30\n",
      "5 * 7 = 35\n",
      "5 * 8 = 40\n",
      "5 * 9 = 45\n",
      "5 * 10 = 50\n"
     ]
    }
   ],
   "source": [
    "a=int(input(\"Enter a number \"))\n",
    "num=int(input(\"Multiples till \"))\n",
    "print(\"Multiplication of \"+str(a)+\" till \"+str(num)+\" multiples is \")\n",
    "for i in range(1,num+1):\n",
    "    print(f'{a} * {i} = {a*i}')"
   ]
  },
  {
   "cell_type": "markdown",
   "metadata": {},
   "source": [
    "## 2"
   ]
  },
  {
   "cell_type": "code",
   "execution_count": 35,
   "metadata": {},
   "outputs": [
    {
     "name": "stdout",
     "output_type": "stream",
     "text": [
      "(3 ,5) (5 ,7) (11 ,13) (17 ,19) (29 ,31) (41 ,43) (59 ,61) (71 ,73) (101 ,103) (107 ,109) (137 ,139) (149 ,151) (179 ,181) (191 ,193) (197 ,199) (227 ,229) (239 ,241) (269 ,271) (281 ,283) (311 ,313) (347 ,349) (419 ,421) (431 ,433) (461 ,463) (521 ,523) (569 ,571) (599 ,601) (617 ,619) (641 ,643) (659 ,661) (809 ,811) (821 ,823) (827 ,829) (857 ,859) (881 ,883) "
     ]
    }
   ],
   "source": [
    "def  prime(n):\n",
    "    for i in range(2,n):\n",
    "        if n % i == 0:\n",
    "            return False\n",
    "    return n\n",
    "\n",
    "def twin(start,end):\n",
    "    for i in range(start,end):\n",
    "        if(prime(i) & prime(i+2)):\n",
    "            print(f'({i} ,{i+2})',end=\" \")\n",
    "\n",
    "twin(2,1000)            "
   ]
  },
  {
   "cell_type": "markdown",
   "metadata": {},
   "source": [
    "## 3"
   ]
  },
  {
   "cell_type": "code",
   "execution_count": 1,
   "metadata": {},
   "outputs": [
    {
     "name": "stdout",
     "output_type": "stream",
     "text": [
      "Enter an integer: 25\n",
      "5,5,"
     ]
    }
   ],
   "source": [
    "import math\n",
    "def primeFactors(n):\n",
    "    while n%2==0:\n",
    "        print(2,end=\",\")\n",
    "        n=n/2\n",
    "        \n",
    "    for i in range(3,int(math.sqrt(n))+1,2):\n",
    "        while n%i==0:\n",
    "            print(int(i),end=\",\")\n",
    "            n=n/i\n",
    "            \n",
    "    if n>2:\n",
    "        print(int(n))\n",
    "        \n",
    "n=int(input(\"Enter an integer: \"))\n",
    "primeFactors(n)"
   ]
  },
  {
   "cell_type": "markdown",
   "metadata": {},
   "source": [
    "## 4"
   ]
  },
  {
   "cell_type": "code",
   "execution_count": 16,
   "metadata": {},
   "outputs": [
    {
     "name": "stdout",
     "output_type": "stream",
     "text": [
      "nCr is 252.0\n",
      "nPr is 30240.0\n"
     ]
    }
   ],
   "source": [
    "def fact(n):\n",
    "    return 1 if n==1 else n*fact(n-1)\n",
    "\n",
    "\n",
    "\n",
    "def ncr(n,r):\n",
    "    return fact(n)/(fact(r)*fact(n-r))\n",
    "\n",
    "def npr(n,r):\n",
    "    return fact(n)/fact(n-r)\n",
    "\n",
    "print(f\"nCr is {ncr(10,5)}\")\n",
    "print(f'nPr is {npr(10,5)}')\n",
    " "
   ]
  },
  {
   "cell_type": "markdown",
   "metadata": {},
   "source": [
    "## 5"
   ]
  },
  {
   "cell_type": "code",
   "execution_count": 34,
   "metadata": {},
   "outputs": [
    {
     "name": "stdout",
     "output_type": "stream",
     "text": [
      "100010"
     ]
    }
   ],
   "source": [
    "def decimal_to_binary(n):\n",
    "    if n>1:\n",
    "        decimal_to_binary(n//2)\n",
    "    print(n%2,end='')\n",
    "\n",
    "decimal_to_binary(34)"
   ]
  },
  {
   "cell_type": "markdown",
   "metadata": {},
   "source": [
    "## 6"
   ]
  },
  {
   "cell_type": "code",
   "execution_count": 57,
   "metadata": {},
   "outputs": [
    {
     "name": "stdout",
     "output_type": "stream",
     "text": [
      "Enter a num 1000\n",
      "1 is an Armstrong Number\n",
      "153 is an Armstrong Number\n",
      "370 is an Armstrong Number\n",
      "371 is an Armstrong Number\n",
      "407 is an Armstrong Number\n"
     ]
    }
   ],
   "source": [
    "def cubesum(n):\n",
    "    sum=0\n",
    "    t=n\n",
    "    while t>0:\n",
    "        k=t%10\n",
    "        sum+=k**3\n",
    "        t=t//10\n",
    "    return sum\n",
    "        \n",
    "def IsArmstrong(k):\n",
    "    if(k==cubesum(k)):\n",
    "        print(f'{k} is an Armstrong Number')\n",
    "        \n",
    "def PrintArmstrong(a):\n",
    "    for i in range(1,a):\n",
    "        if i==IsArmstrong(i):\n",
    "            print(i)\n",
    "           \n",
    "            \n",
    "            \n",
    "num=int(input(\"Enter a num \"))\n",
    "PrintArmstrong(num)"
   ]
  },
  {
   "cell_type": "markdown",
   "metadata": {},
   "source": [
    "## 7"
   ]
  },
  {
   "cell_type": "code",
   "execution_count": 62,
   "metadata": {},
   "outputs": [
    {
     "name": "stdout",
     "output_type": "stream",
     "text": [
      "Enter a number 56\n"
     ]
    },
    {
     "data": {
      "text/plain": [
       "30"
      ]
     },
     "execution_count": 62,
     "metadata": {},
     "output_type": "execute_result"
    }
   ],
   "source": [
    "def prodDigits(n):\n",
    "    pro=1\n",
    "    t=n\n",
    "    while t>0:\n",
    "        k=t%10\n",
    "        pro=pro*k\n",
    "        t=t//10\n",
    "    return pro\n",
    "num=int(input(\"Enter a number \"))\n",
    "prodDigits(num)"
   ]
  },
  {
   "cell_type": "markdown",
   "metadata": {},
   "source": [
    "## 8"
   ]
  },
  {
   "cell_type": "code",
   "execution_count": 18,
   "metadata": {},
   "outputs": [
    {
     "name": "stdout",
     "output_type": "stream",
     "text": [
      "Enter a num: 86\n",
      "-> 48 -> 32 -> 6 \n",
      "MPersistence  3\n"
     ]
    }
   ],
   "source": [
    "def get_digits(num):\n",
    "    digits=[]\n",
    "    while num>0:\n",
    "        num,digit=divmod(num,10 )\n",
    "        digits.append(digit)\n",
    "    return digits\n",
    "\n",
    "def multiply_all(digits):\n",
    "    multiplier=1\n",
    "    while digits:\n",
    "        multiplier *=digits.pop()\n",
    "    print(\"->\",multiplier,end=\" \")\n",
    "    return multiplier\n",
    "\n",
    "def persistence(num):\n",
    "    count=0\n",
    "    while num>=10:\n",
    "        num=multiply_all(get_digits(num))\n",
    "        count+=1\n",
    "    return count\n",
    "\n",
    "k=int(input(\"Enter a num: \"))\n",
    "print(\"\\nMPersistence \",persistence(k))"
   ]
  },
  {
   "cell_type": "markdown",
   "metadata": {},
   "source": [
    "## 9"
   ]
  },
  {
   "cell_type": "code",
   "execution_count": 90,
   "metadata": {},
   "outputs": [
    {
     "name": "stdout",
     "output_type": "stream",
     "text": [
      "Enter a number 51\n",
      "Divisors are [1, 3, 17]\n",
      "Sum is 21\n"
     ]
    }
   ],
   "source": [
    "def sumPdivisors(num):\n",
    "    divisors=[]\n",
    "    for i in range(1,num):\n",
    "        if num%i==0:\n",
    "            divisors.append(i)\n",
    "    print(f\"Divisors are {divisors}\")\n",
    "    return sum(divisors)\n",
    "\n",
    "a=int(input(\"Enter a number \"))\n",
    "k=sumPdivisors(a)\n",
    "print(f\"Sum is {k}\")"
   ]
  },
  {
   "cell_type": "markdown",
   "metadata": {},
   "source": [
    "## 10"
   ]
  },
  {
   "cell_type": "code",
   "execution_count": 109,
   "metadata": {},
   "outputs": [
    {
     "name": "stdout",
     "output_type": "stream",
     "text": [
      "Range of Perfect Numbers 100\n",
      "6\n",
      "28\n"
     ]
    }
   ],
   "source": [
    "def PerfectNum(num):\n",
    "    sum=0\n",
    "    for i in range(1,num):\n",
    "        if num%i==0:\n",
    "            sum+=i\n",
    "    if sum==num:\n",
    "        print(sum)\n",
    "\n",
    "def Display(k):\n",
    "    for i in range(1,k):\n",
    "        if PerfectNum(i)==i:\n",
    "            print(i)\n",
    "a=int(input(\"Range of Perfect Numbers \"))\n",
    "Display(a)"
   ]
  },
  {
   "cell_type": "markdown",
   "metadata": {},
   "source": [
    "## 11"
   ]
  },
  {
   "cell_type": "code",
   "execution_count": 34,
   "metadata": {},
   "outputs": [
    {
     "name": "stdout",
     "output_type": "stream",
     "text": [
      "Enter number 1: 220\n",
      "Enter number 2: 284\n",
      "284\n",
      "220\n",
      "Amicable\n"
     ]
    }
   ],
   "source": [
    "x=int(input('Enter number 1: '))\n",
    "y=int(input('Enter number 2: '))\n",
    "sum1,sum2=0,0\n",
    "for i in range(1,x):\n",
    "    if x%i==0:\n",
    "        sum1+=i\n",
    "print(sum1)\n",
    "for j in range(1,y):\n",
    "    if y%j==0:\n",
    "        sum2+=j\n",
    "print(sum2)\n",
    "\n",
    "if x==sum2 and y==sum1:\n",
    "    print(\"Amicable\")"
   ]
  },
  {
   "cell_type": "markdown",
   "metadata": {},
   "source": [
    "## 12"
   ]
  },
  {
   "cell_type": "code",
   "execution_count": 4,
   "metadata": {},
   "outputs": [
    {
     "name": "stdout",
     "output_type": "stream",
     "text": [
      "Enter a num 20\n",
      "[1, 3, 5, 7, 9, 11, 13, 15, 17, 19]\n"
     ]
    }
   ],
   "source": [
    "n=int(input(\"Enter a num \"))\n",
    "lst=[]\n",
    "for i in range(1,n):\n",
    "    lst.append(i)\n",
    "odd_num=list(filter(lambda x:x%2==1,lst))\n",
    "print(odd_num)"
   ]
  },
  {
   "cell_type": "markdown",
   "metadata": {},
   "source": [
    "## 13"
   ]
  },
  {
   "cell_type": "code",
   "execution_count": 6,
   "metadata": {},
   "outputs": [
    {
     "name": "stdout",
     "output_type": "stream",
     "text": [
      "Enter a num 10\n",
      "[1, 8, 27, 64, 125, 216, 343, 512, 729, 1000]\n"
     ]
    }
   ],
   "source": [
    "n=int(input(\"Enter a num \"))\n",
    "lst=[]\n",
    "for i in range(1,n+1):\n",
    "    lst.append(i)\n",
    "cubes=list(map(lambda x:x**3,lst))\n",
    "print(cubes)"
   ]
  },
  {
   "cell_type": "markdown",
   "metadata": {},
   "source": [
    "## 14"
   ]
  },
  {
   "cell_type": "code",
   "execution_count": 7,
   "metadata": {},
   "outputs": [
    {
     "name": "stdout",
     "output_type": "stream",
     "text": [
      "Enter a num 10\n",
      "[8, 64, 216, 512, 1000]\n"
     ]
    }
   ],
   "source": [
    "n=int(input(\"Enter a num \"))\n",
    "lst=[]\n",
    "for i in range(1,n+1):\n",
    "    lst.append(i)\n",
    "even_lst=list(filter(lambda x:x%2==0,lst))\n",
    "cubes=list(map(lambda x:x**3,even_lst))\n",
    "print(cubes)"
   ]
  },
  {
   "cell_type": "code",
   "execution_count": null,
   "metadata": {},
   "outputs": [],
   "source": []
  }
 ],
 "metadata": {
  "kernelspec": {
   "display_name": "Python 3",
   "language": "python",
   "name": "python3"
  },
  "language_info": {
   "codemirror_mode": {
    "name": "ipython",
    "version": 3
   },
   "file_extension": ".py",
   "mimetype": "text/x-python",
   "name": "python",
   "nbconvert_exporter": "python",
   "pygments_lexer": "ipython3",
   "version": "3.7.3"
  }
 },
 "nbformat": 4,
 "nbformat_minor": 2
}
